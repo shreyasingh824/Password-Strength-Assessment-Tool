{
 "cells": [
  {
   "cell_type": "code",
   "execution_count": 1,
   "id": "659012a7",
   "metadata": {},
   "outputs": [],
   "source": [
    "import re"
   ]
  },
  {
   "cell_type": "code",
   "execution_count": 4,
   "id": "1cd83146",
   "metadata": {},
   "outputs": [],
   "source": [
    "def check_password_strength(password):\n",
    "    # Criteria for the password strength\n",
    "    length_criteria = len(password) >= 8\n",
    "    upper_criteria = bool(re.search(r'[A-Z]', password))\n",
    "    lower_criteria = bool(re.search(r'[a-z]', password))\n",
    "    digit_criteria = bool(re.search(r'\\d', password))\n",
    "    special_criteria = bool(re.search(r'[@$!%*?&]', password))\n",
    "\n",
    "    # Calculate the strength score\n",
    "    strength_score = sum([length_criteria, upper_criteria, lower_criteria, digit_criteria, special_criteria])\n",
    "\n",
    "    # Determine the password strength\n",
    "    if strength_score == 5:\n",
    "        strength = \"Very Strong\"\n",
    "    elif strength_score == 4:\n",
    "        strength = \"Strong\"\n",
    "    elif strength_score == 3:\n",
    "        strength = \"Moderate\"\n",
    "    elif strength_score == 2:\n",
    "        strength = \"Weak\"\n",
    "    else:\n",
    "        strength = \"Very Weak\"\n",
    "\n",
    "    # Provide feedback to the user\n",
    "    feedback = []\n",
    "    if not length_criteria:\n",
    "        feedback.append(\"Password should be at least 8 characters long.\")\n",
    "    if not upper_criteria:\n",
    "        feedback.append(\"Password should contain at least one uppercase letter.\")\n",
    "    if not lower_criteria:\n",
    "        feedback.append(\"Password should contain at least one lowercase letter.\")\n",
    "    if not digit_criteria:\n",
    "        feedback.append(\"Password should contain at least one digit.\")\n",
    "    if not special_criteria:\n",
    "        feedback.append(\"Password should contain at least one special character (@, $, !, %, *, ?, &).\")\n",
    "\n",
    "    return strength, feedback"
   ]
  },
  {
   "cell_type": "code",
   "execution_count": 5,
   "id": "eba37307",
   "metadata": {},
   "outputs": [
    {
     "name": "stdout",
     "output_type": "stream",
     "text": [
      "Enter a password to check its strength: Juhi@1s\n",
      "Password Strength: Strong\n",
      "- Password should be at least 8 characters long.\n",
      "Would you like to check another password? (yes/no): Juhi121@singhj\n"
     ]
    }
   ],
   "source": [
    "def main():\n",
    "    while True:\n",
    "        password = input(\"Enter a password to check its strength: \")\n",
    "        strength, feedback = check_password_strength(password)\n",
    "        \n",
    "        print(f\"Password Strength: {strength}\")\n",
    "        for item in feedback:\n",
    "            print(f\"- {item}\")\n",
    "\n",
    "        again = input(\"Would you like to check another password? (yes/no): \").lower()\n",
    "        if again != 'yes':\n",
    "            break\n",
    "\n",
    "if __name__ == \"__main__\":\n",
    "    main()"
   ]
  },
  {
   "cell_type": "code",
   "execution_count": null,
   "id": "df8b0611",
   "metadata": {},
   "outputs": [],
   "source": []
  }
 ],
 "metadata": {
  "kernelspec": {
   "display_name": "Python 3 (ipykernel)",
   "language": "python",
   "name": "python3"
  },
  "language_info": {
   "codemirror_mode": {
    "name": "ipython",
    "version": 3
   },
   "file_extension": ".py",
   "mimetype": "text/x-python",
   "name": "python",
   "nbconvert_exporter": "python",
   "pygments_lexer": "ipython3",
   "version": "3.9.13"
  }
 },
 "nbformat": 4,
 "nbformat_minor": 5
}
